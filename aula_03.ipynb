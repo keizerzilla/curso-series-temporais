{
 "cells": [
  {
   "cell_type": "markdown",
   "id": "a3963c63-530a-4133-a7e8-357dc2f792df",
   "metadata": {},
   "source": [
    "## Aula 03: Predição"
   ]
  },
  {
   "cell_type": "markdown",
   "id": "3b51a77c-c0a2-4f4d-8a1a-a242fca304a9",
   "metadata": {},
   "source": [
    "![Em construção](assets/em-construcao.png \"Aviso\")"
   ]
  }
 ],
 "metadata": {
  "kernelspec": {
   "display_name": "Python 3 (ipykernel)",
   "language": "python",
   "name": "python3"
  },
  "language_info": {
   "codemirror_mode": {
    "name": "ipython",
    "version": 3
   },
   "file_extension": ".py",
   "mimetype": "text/x-python",
   "name": "python",
   "nbconvert_exporter": "python",
   "pygments_lexer": "ipython3",
   "version": "3.9.13"
  }
 },
 "nbformat": 4,
 "nbformat_minor": 5
}
