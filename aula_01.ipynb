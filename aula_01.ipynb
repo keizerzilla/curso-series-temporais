{
 "cells": [
  {
   "cell_type": "markdown",
   "id": "0a0ff22b-a706-4345-be57-b14cdd10c4a1",
   "metadata": {},
   "source": [
    "## Aula 01: Introdução, definição e exemplos"
   ]
  },
  {
   "cell_type": "markdown",
   "id": "6eb242cc-40a6-4a66-9306-d8a08c1dd48e",
   "metadata": {},
   "source": [
    "### Pré-requisitos\n",
    "- teóricos: conceito de função e estatística básica\n",
    "- práticos: Python\n",
    "    - bônus: NumPy, Pandas, matplotlib\n",
    "        - megabônus: statsmodel"
   ]
  },
  {
   "cell_type": "markdown",
   "id": "f438c1ff-43b5-499d-8d86-376c81c35d63",
   "metadata": {},
   "source": [
    "### O que é uma Série Temporal?\n",
    "\n",
    "> Conjunto de dados sucessivos (**sequência de números**), **dependentes do tempo** e _amostrados_ em intervalos fixos.\n",
    "\n",
    "- sequência de números\n",
    "    - univariada\n",
    "    - multivariada\n",
    "- dependentes do tempo\n",
    "    - amostragem: de quanto em quanto tempo eu observo/leio/registro uma nova amostra/exemplo"
   ]
  },
  {
   "cell_type": "markdown",
   "id": "853a0446-7241-4374-a08a-bff478d7b702",
   "metadata": {},
   "source": [
    "## O que constitui uma Série Temporal?\n",
    "\n",
    "> Componentes básicos: tendência, sazonalidade, ruído\n",
    "\n",
    "1. tendência\n",
    "    - cresce, decresce ou é constante?\n",
    "2. sazonalidade\n",
    "    - é possível \"dividir\" o tempo em períodos que se repetem?\n",
    "3. ruído/aleatoriedade/resíduo/erro\n",
    "    - nem tudo é perfeito\n",
    "    - uma aleatoriadade está presente seja na aquisição do dado ou pela própria natureza do fenônemo\n",
    "\n",
    "> Algumas fontes costumam citar uma quarta componente normalmente chamada de _base_, que nada mais é que a o valor médio da série ou até mesmo o par média e variância. Eu particularmente não costuma definir em termos dessa componente por achar as outras três mais completas."
   ]
  },
  {
   "cell_type": "markdown",
   "id": "ba58cd0f-1415-40e8-897a-708af6c1cb2f",
   "metadata": {},
   "source": [
    "## Como essas componentes se relacionam?\n",
    "\n",
    "- $Y(t)$: série\n",
    "- $T(t)$: tendência\n",
    "- $S(t)$: sazonalidade\n",
    "- $R(t)$: ruído\n",
    "\n",
    "### Relação aditiva\n",
    "\n",
    "$$\n",
    "Y(t) = T(t) + S(t) + R(t)\n",
    "$$\n",
    "\n",
    "### Relação multiplicativa\n",
    "\n",
    "$$\n",
    "Y(t) = T(t) \\cdot S(t) \\cdot R(t)\n",
    "$$"
   ]
  },
  {
   "cell_type": "markdown",
   "id": "f0098f0e-97ff-4806-ac1b-984a4a9edf48",
   "metadata": {},
   "source": [
    "## Quando uma Série Temporal é manipulável?\n",
    "\n",
    "> Reposta: conceito de estacionariedade\n",
    "\n",
    "> _\"As mudanças nas componentes (tendência, sazonalidade e ruído) são previsíveis?\"_\n",
    "\n",
    "- se sim: a série é considerada **estacionária**\n",
    "- se não: a série é considerada **não-estacionária**\n",
    "\n",
    "O caso estacionário é o ideal. O teste é feito usando descritores estatísticos básicos (média e variância). No pior dos casos, existem algumas técnicas que tentam tornar uma série não-estacionária numa um pouco mais comportada."
   ]
  },
  {
   "cell_type": "markdown",
   "id": "04c58c81-ad90-4955-a902-50b87a794d07",
   "metadata": {},
   "source": [
    "## Onde eu posso usar isso?\n",
    "\n",
    "- economia\n",
    "- processamento de sinais\n",
    "- metereologia\n",
    "- controle\n",
    "- e todo e qualquer fenômeno que se preocupe com o tempo..."
   ]
  }
 ],
 "metadata": {
  "kernelspec": {
   "display_name": "Python 3 (ipykernel)",
   "language": "python",
   "name": "python3"
  },
  "language_info": {
   "codemirror_mode": {
    "name": "ipython",
    "version": 3
   },
   "file_extension": ".py",
   "mimetype": "text/x-python",
   "name": "python",
   "nbconvert_exporter": "python",
   "pygments_lexer": "ipython3",
   "version": "3.9.13"
  }
 },
 "nbformat": 4,
 "nbformat_minor": 5
}
