{
 "cells": [
  {
   "cell_type": "markdown",
   "id": "ff4f2433-b6c9-4c77-97a8-a92aae421ae5",
   "metadata": {},
   "source": [
    "## Aula 02: Manipulações básicas"
   ]
  },
  {
   "cell_type": "markdown",
   "id": "5570429e-68c4-405b-9451-569d3d813d7f",
   "metadata": {},
   "source": [
    "![Em construção](assets/em-construcao.png \"Aviso\")"
   ]
  }
 ],
 "metadata": {
  "kernelspec": {
   "display_name": "Python 3 (ipykernel)",
   "language": "python",
   "name": "python3"
  },
  "language_info": {
   "codemirror_mode": {
    "name": "ipython",
    "version": 3
   },
   "file_extension": ".py",
   "mimetype": "text/x-python",
   "name": "python",
   "nbconvert_exporter": "python",
   "pygments_lexer": "ipython3",
   "version": "3.9.13"
  }
 },
 "nbformat": 4,
 "nbformat_minor": 5
}
