{
 "cells": [
  {
   "cell_type": "markdown",
   "id": "e7577566-b8a4-4413-97f3-0092580d5c83",
   "metadata": {},
   "source": [
    "## Aula 05: Detecção de anomalias #02"
   ]
  },
  {
   "cell_type": "markdown",
   "id": "496dd914-4b54-4770-96d8-fd35750f745b",
   "metadata": {},
   "source": [
    "![Em construção](assets/em-construcao.png \"Aviso\")"
   ]
  }
 ],
 "metadata": {
  "kernelspec": {
   "display_name": "Python 3 (ipykernel)",
   "language": "python",
   "name": "python3"
  },
  "language_info": {
   "codemirror_mode": {
    "name": "ipython",
    "version": 3
   },
   "file_extension": ".py",
   "mimetype": "text/x-python",
   "name": "python",
   "nbconvert_exporter": "python",
   "pygments_lexer": "ipython3",
   "version": "3.9.13"
  }
 },
 "nbformat": 4,
 "nbformat_minor": 5
}
