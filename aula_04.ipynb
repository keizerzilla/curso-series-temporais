{
 "cells": [
  {
   "cell_type": "markdown",
   "id": "88394fb7-5223-4d8f-b51a-69671b056c03",
   "metadata": {},
   "source": [
    "## Aula 04: Detecçao de anomalias #01"
   ]
  },
  {
   "cell_type": "markdown",
   "id": "da938cea-6747-4069-b705-55195ba5e9cf",
   "metadata": {},
   "source": [
    "![Em construção](assets/em-construcao.png \"Aviso\")"
   ]
  }
 ],
 "metadata": {
  "kernelspec": {
   "display_name": "Python 3 (ipykernel)",
   "language": "python",
   "name": "python3"
  },
  "language_info": {
   "codemirror_mode": {
    "name": "ipython",
    "version": 3
   },
   "file_extension": ".py",
   "mimetype": "text/x-python",
   "name": "python",
   "nbconvert_exporter": "python",
   "pygments_lexer": "ipython3",
   "version": "3.9.13"
  }
 },
 "nbformat": 4,
 "nbformat_minor": 5
}
